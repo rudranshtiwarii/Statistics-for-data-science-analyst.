{
 "cells": [
  {
   "cell_type": "code",
   "execution_count": 2,
   "id": "fe0a5db9",
   "metadata": {},
   "outputs": [
    {
     "name": "stdout",
     "output_type": "stream",
     "text": [
      "59\n"
     ]
    }
   ],
   "source": [
    "# With Python use the NumPy library ptp() method to find the range of the values 13, 21, 21, 40, 48, 55, 72:\n",
    "\n",
    "import numpy as np\n",
    "values = [13, 21, 21, 40, 48, 55, 72]\n",
    "x = np.ptp(values)\n",
    "print(x)"
   ]
  },
  {
   "cell_type": "code",
   "execution_count": null,
   "id": "6cd2fc56",
   "metadata": {},
   "outputs": [],
   "source": []
  }
 ],
 "metadata": {
  "kernelspec": {
   "display_name": "Python 3 (ipykernel)",
   "language": "python",
   "name": "python3"
  },
  "language_info": {
   "codemirror_mode": {
    "name": "ipython",
    "version": 3
   },
   "file_extension": ".py",
   "mimetype": "text/x-python",
   "name": "python",
   "nbconvert_exporter": "python",
   "pygments_lexer": "ipython3",
   "version": "3.9.12"
  }
 },
 "nbformat": 4,
 "nbformat_minor": 5
}
