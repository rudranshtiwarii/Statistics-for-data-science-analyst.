{
 "cells": [
  {
   "cell_type": "code",
   "execution_count": 2,
   "id": "9e83dcf9",
   "metadata": {},
   "outputs": [],
   "source": [
    "from statistics import multimode"
   ]
  },
  {
   "cell_type": "code",
   "execution_count": 3,
   "id": "0cb2db0e",
   "metadata": {},
   "outputs": [
    {
     "name": "stdout",
     "output_type": "stream",
     "text": [
      "[7, 12]\n"
     ]
    }
   ],
   "source": [
    "# With Python use the statistics library multimode() method to find the modes of the values 4,7,3,8,11,7,10,19,6,9,12,12:\n",
    "\n",
    "values = [4,7,3,8,11,7,10,19,6,9,12,12]\n",
    "\n",
    "x = multimode(values)\n",
    "print(x)\n",
    " \n"
   ]
  },
  {
   "cell_type": "code",
   "execution_count": null,
   "id": "d20e9e97",
   "metadata": {},
   "outputs": [],
   "source": []
  }
 ],
 "metadata": {
  "kernelspec": {
   "display_name": "Python 3 (ipykernel)",
   "language": "python",
   "name": "python3"
  },
  "language_info": {
   "codemirror_mode": {
    "name": "ipython",
    "version": 3
   },
   "file_extension": ".py",
   "mimetype": "text/x-python",
   "name": "python",
   "nbconvert_exporter": "python",
   "pygments_lexer": "ipython3",
   "version": "3.9.12"
  }
 },
 "nbformat": 4,
 "nbformat_minor": 5
}
